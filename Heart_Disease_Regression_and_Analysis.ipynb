{
  "metadata": {
    "kernelspec": {
      "language": "python",
      "display_name": "Python 3",
      "name": "python3"
    },
    "language_info": {
      "pygments_lexer": "ipython3",
      "nbconvert_exporter": "python",
      "version": "3.6.4",
      "file_extension": ".py",
      "codemirror_mode": {
        "name": "ipython",
        "version": 3
      },
      "name": "python",
      "mimetype": "text/x-python"
    },
    "kaggle": {
      "accelerator": "none",
      "dataSources": [
        {
          "sourceId": 6674905,
          "sourceType": "datasetVersion",
          "datasetId": 1936563
        }
      ],
      "dockerImageVersionId": 30170,
      "isInternetEnabled": false,
      "language": "python",
      "sourceType": "notebook",
      "isGpuEnabled": false
    },
    "colab": {
      "name": "Heart Disease Regression and Analysis",
      "provenance": [],
      "include_colab_link": true
    }
  },
  "nbformat_minor": 0,
  "nbformat": 4,
  "cells": [
    {
      "cell_type": "markdown",
      "metadata": {
        "id": "view-in-github",
        "colab_type": "text"
      },
      "source": [
        "<a href=\"https://colab.research.google.com/github/Mahalakshmi-2-9/TNSDC_Generative-AI/blob/main/Heart_Disease_Regression_and_Analysis.ipynb\" target=\"_parent\"><img src=\"https://colab.research.google.com/assets/colab-badge.svg\" alt=\"Open In Colab\"/></a>"
      ]
    },
    {
      "source": [
        "\n",
        "# IMPORTANT: RUN THIS CELL IN ORDER TO IMPORT YOUR KAGGLE DATA SOURCES\n",
        "# TO THE CORRECT LOCATION (/kaggle/input) IN YOUR NOTEBOOK,\n",
        "# THEN FEEL FREE TO DELETE THIS CELL.\n",
        "# NOTE: THIS NOTEBOOK ENVIRONMENT DIFFERS FROM KAGGLE'S PYTHON\n",
        "# ENVIRONMENT SO THERE MAY BE MISSING LIBRARIES USED BY YOUR\n",
        "# NOTEBOOK.\n",
        "\n",
        "import os\n",
        "import sys\n",
        "from tempfile import NamedTemporaryFile\n",
        "from urllib.request import urlopen\n",
        "from urllib.parse import unquote, urlparse\n",
        "from urllib.error import HTTPError\n",
        "from zipfile import ZipFile\n",
        "import tarfile\n",
        "import shutil\n",
        "\n",
        "CHUNK_SIZE = 40960\n",
        "DATA_SOURCE_MAPPING = 'personal-key-indicators-of-heart-disease:https%3A%2F%2Fstorage.googleapis.com%2Fkaggle-data-sets%2F1936563%2F6674905%2Fbundle%2Farchive.zip%3FX-Goog-Algorithm%3DGOOG4-RSA-SHA256%26X-Goog-Credential%3Dgcp-kaggle-com%2540kaggle-161607.iam.gserviceaccount.com%252F20240330%252Fauto%252Fstorage%252Fgoog4_request%26X-Goog-Date%3D20240330T063445Z%26X-Goog-Expires%3D259200%26X-Goog-SignedHeaders%3Dhost%26X-Goog-Signature%3D640c54a424962f0c786af74f21b8ea37614f0bbb1e8750230f43bd813fa37109c84f01d9ab5ba4f71e74a8e4c7166dfb288ba8f210e57daed81729414b7a2bba930718b22fda2b3f0771c28784622a7613508512b771bb0af40d74dbe3d78a3c3ea2b3c59d5e55e6015c9c2c0a95a120826884c934309a698907214a975dd6de48c3c1df59646cbef0e6137dc0e31aa9fb9079b55cbb0846df31acd4c03c676b3c6406ba99c9586a988cb43413befd1dc207ada16f69e61561684b9166e574324d911554e705f865a2d1a43180798215cafc1053d3f51da37ec4ca1e9c0a4676d2691c64f4baca3d8ffcc21ecc02eeadba40c3ac0bd328f5c45565f719379f26'\n",
        "\n",
        "KAGGLE_INPUT_PATH='/kaggle/input'\n",
        "KAGGLE_WORKING_PATH='/kaggle/working'\n",
        "KAGGLE_SYMLINK='kaggle'\n",
        "\n",
        "!umount /kaggle/input/ 2> /dev/null\n",
        "shutil.rmtree('/kaggle/input', ignore_errors=True)\n",
        "os.makedirs(KAGGLE_INPUT_PATH, 0o777, exist_ok=True)\n",
        "os.makedirs(KAGGLE_WORKING_PATH, 0o777, exist_ok=True)\n",
        "\n",
        "try:\n",
        "  os.symlink(KAGGLE_INPUT_PATH, os.path.join(\"..\", 'input'), target_is_directory=True)\n",
        "except FileExistsError:\n",
        "  pass\n",
        "try:\n",
        "  os.symlink(KAGGLE_WORKING_PATH, os.path.join(\"..\", 'working'), target_is_directory=True)\n",
        "except FileExistsError:\n",
        "  pass\n",
        "\n",
        "for data_source_mapping in DATA_SOURCE_MAPPING.split(','):\n",
        "    directory, download_url_encoded = data_source_mapping.split(':')\n",
        "    download_url = unquote(download_url_encoded)\n",
        "    filename = urlparse(download_url).path\n",
        "    destination_path = os.path.join(KAGGLE_INPUT_PATH, directory)\n",
        "    try:\n",
        "        with urlopen(download_url) as fileres, NamedTemporaryFile() as tfile:\n",
        "            total_length = fileres.headers['content-length']\n",
        "            print(f'Downloading {directory}, {total_length} bytes compressed')\n",
        "            dl = 0\n",
        "            data = fileres.read(CHUNK_SIZE)\n",
        "            while len(data) > 0:\n",
        "                dl += len(data)\n",
        "                tfile.write(data)\n",
        "                done = int(50 * dl / int(total_length))\n",
        "                sys.stdout.write(f\"\\r[{'=' * done}{' ' * (50-done)}] {dl} bytes downloaded\")\n",
        "                sys.stdout.flush()\n",
        "                data = fileres.read(CHUNK_SIZE)\n",
        "            if filename.endswith('.zip'):\n",
        "              with ZipFile(tfile) as zfile:\n",
        "                zfile.extractall(destination_path)\n",
        "            else:\n",
        "              with tarfile.open(tfile.name) as tarfile:\n",
        "                tarfile.extractall(destination_path)\n",
        "            print(f'\\nDownloaded and uncompressed: {directory}')\n",
        "    except HTTPError as e:\n",
        "        print(f'Failed to load (likely expired) {download_url} to path {destination_path}')\n",
        "        continue\n",
        "    except OSError as e:\n",
        "        print(f'Failed to load {download_url} to path {destination_path}')\n",
        "        continue\n",
        "\n",
        "print('Data source import complete.')\n"
      ],
      "metadata": {
        "id": "oqQWsgwWEWxL"
      },
      "cell_type": "code",
      "outputs": [],
      "execution_count": null
    },
    {
      "cell_type": "markdown",
      "source": [
        "# Regression and Analysis of the Heart Disease Data\n",
        "\n",
        "This has 3 parts\n",
        "1. Build a logistic model to predict the heart disease based on the dataset provided.\n",
        "2. Analyse the correlation between Heart disease, kidney disease, diabetes and skin cancer. See if there is a relation between them.\n",
        "3. Understand the influence of BMI on the diseases."
      ],
      "metadata": {
        "id": "9oQkNz2nEWxN"
      }
    },
    {
      "cell_type": "markdown",
      "source": [
        "## 1. Build a logistic model to predict the heart disease based on the dataset provided."
      ],
      "metadata": {
        "id": "myhvWgJMEWxP"
      }
    },
    {
      "cell_type": "markdown",
      "source": [],
      "metadata": {
        "id": "RW1lusuEEWxP"
      }
    },
    {
      "cell_type": "code",
      "source": [
        "# This Python 3 environment comes with many helpful analytics libraries installed\n",
        "# It is defined by the kaggle/python Docker image: https://github.com/kaggle/docker-python\n",
        "# For example, here's several helpful packages to load\n",
        "\n",
        "import numpy as np # linear algebra\n",
        "import pandas as pd # data processing, CSV file I/O (e.g. pd.read_csv)\n",
        "\n",
        "import warnings\n",
        "warnings.filterwarnings('ignore')\n",
        "\n",
        "# Input data files are available in the read-only \"../input/\" directory\n",
        "# For example, running this (by clicking run or pressing Shift+Enter) will list all files under the input directory\n",
        "\n",
        "import os\n",
        "for dirname, _, filenames in os.walk('/kaggle/input'):\n",
        "    for filename in filenames:\n",
        "        print(os.path.join(dirname, filename))\n",
        "\n",
        "# You can write up to 20GB to the current directory (/kaggle/working/) that gets preserved as output when you create a version using \"Save & Run All\"\n",
        "# You can also write temporary files to /kaggle/temp/, but they won't be saved outside of the current session"
      ],
      "metadata": {
        "_uuid": "8f2839f25d086af736a60e9eeb907d3b93b6e0e5",
        "_cell_guid": "b1076dfc-b9ad-4769-8c92-a6c4dae69d19",
        "execution": {
          "iopub.status.busy": "2022-03-26T06:19:33.447346Z",
          "iopub.execute_input": "2022-03-26T06:19:33.447761Z",
          "iopub.status.idle": "2022-03-26T06:19:33.460527Z",
          "shell.execute_reply.started": "2022-03-26T06:19:33.44772Z",
          "shell.execute_reply": "2022-03-26T06:19:33.459483Z"
        },
        "trusted": true,
        "id": "UHxbfcxkEWxP"
      },
      "execution_count": null,
      "outputs": []
    },
    {
      "cell_type": "code",
      "source": [
        "# Read the csv file and check the top 5 rows\n",
        "heart = pd.read_csv(\"/kaggle/input/personal-key-indicators-of-heart-disease/heart_2020_cleaned.csv\")\n",
        "heart.head()"
      ],
      "metadata": {
        "execution": {
          "iopub.status.busy": "2022-03-26T06:19:35.821124Z",
          "iopub.execute_input": "2022-03-26T06:19:35.821642Z",
          "iopub.status.idle": "2022-03-26T06:19:37.036885Z",
          "shell.execute_reply.started": "2022-03-26T06:19:35.821605Z",
          "shell.execute_reply": "2022-03-26T06:19:37.035816Z"
        },
        "trusted": true,
        "id": "ojJt1u7JEWxQ"
      },
      "execution_count": null,
      "outputs": []
    },
    {
      "cell_type": "code",
      "source": [
        "# Check for null values\n",
        "heart.isnull().any()\n",
        "heart.shape"
      ],
      "metadata": {
        "execution": {
          "iopub.status.busy": "2022-03-26T06:19:41.708899Z",
          "iopub.execute_input": "2022-03-26T06:19:41.709539Z",
          "iopub.status.idle": "2022-03-26T06:19:42.189546Z",
          "shell.execute_reply.started": "2022-03-26T06:19:41.7095Z",
          "shell.execute_reply": "2022-03-26T06:19:42.188903Z"
        },
        "trusted": true,
        "id": "_Dv2Is_MEWxS"
      },
      "execution_count": null,
      "outputs": []
    },
    {
      "cell_type": "code",
      "source": [
        "heart.Diabetic.value_counts()"
      ],
      "metadata": {
        "execution": {
          "iopub.status.busy": "2022-03-07T02:24:56.074256Z",
          "iopub.execute_input": "2022-03-07T02:24:56.074586Z",
          "iopub.status.idle": "2022-03-07T02:24:56.102693Z",
          "shell.execute_reply.started": "2022-03-07T02:24:56.074557Z",
          "shell.execute_reply": "2022-03-07T02:24:56.10177Z"
        },
        "trusted": true,
        "id": "i5wxQQjFEWxT"
      },
      "execution_count": null,
      "outputs": []
    },
    {
      "cell_type": "code",
      "source": [
        "# Since we want to diagnose as Yes for heart-disease, even if there is a slightest chance, let us consider borderline diabetic and pregnancy diabetic as No.\n",
        "heart['Diabetic'] = heart.Diabetic.apply(lambda x: 'No' if x == 'No, borderline diabetes' or x == 'Yes (during pregnancy)' else x)\n",
        "heart.Diabetic.value_counts()"
      ],
      "metadata": {
        "execution": {
          "iopub.status.busy": "2022-03-26T06:20:42.345047Z",
          "iopub.execute_input": "2022-03-26T06:20:42.345383Z",
          "iopub.status.idle": "2022-03-26T06:20:42.503872Z",
          "shell.execute_reply.started": "2022-03-26T06:20:42.345348Z",
          "shell.execute_reply": "2022-03-26T06:20:42.50313Z"
        },
        "trusted": true,
        "id": "pjq0-OGeEWxT"
      },
      "execution_count": null,
      "outputs": []
    },
    {
      "cell_type": "code",
      "source": [
        "# Check for null values\n",
        "heart.isnull().any()"
      ],
      "metadata": {
        "execution": {
          "iopub.status.busy": "2022-03-26T06:20:49.162118Z",
          "iopub.execute_input": "2022-03-26T06:20:49.162838Z",
          "iopub.status.idle": "2022-03-26T06:20:49.643889Z",
          "shell.execute_reply.started": "2022-03-26T06:20:49.162766Z",
          "shell.execute_reply": "2022-03-26T06:20:49.642755Z"
        },
        "trusted": true,
        "id": "AAqrxSIOEWxT"
      },
      "execution_count": null,
      "outputs": []
    },
    {
      "cell_type": "markdown",
      "source": [
        "### Data analysis of categorical features"
      ],
      "metadata": {
        "id": "nbPLiFmoEWxT"
      }
    },
    {
      "cell_type": "code",
      "source": [
        "# Notice that we have a few categorical variables with Yes/No values. Let us convert them to binary 1/0\n",
        "column_yesno = [\"HeartDisease\", \"Smoking\", \"AlcoholDrinking\", \"Stroke\", \"DiffWalking\", \"Diabetic\", \"PhysicalActivity\", \"Asthma\", \"KidneyDisease\", \"SkinCancer\"]\n",
        "\n",
        "heart[column_yesno] = heart[column_yesno].apply(lambda x: x.map({'Yes':1,'No':0}))\n",
        "heart.head()"
      ],
      "metadata": {
        "execution": {
          "iopub.status.busy": "2022-03-26T06:20:53.644208Z",
          "iopub.execute_input": "2022-03-26T06:20:53.644569Z",
          "iopub.status.idle": "2022-03-26T06:20:54.406747Z",
          "shell.execute_reply.started": "2022-03-26T06:20:53.644534Z",
          "shell.execute_reply": "2022-03-26T06:20:54.405641Z"
        },
        "trusted": true,
        "id": "IdDCOw7JEWxT"
      },
      "execution_count": null,
      "outputs": []
    },
    {
      "cell_type": "code",
      "source": [
        "# Check the data\n",
        "heart.info()\n",
        "heart_orig = heart"
      ],
      "metadata": {
        "execution": {
          "iopub.status.busy": "2022-03-26T06:20:57.214479Z",
          "iopub.execute_input": "2022-03-26T06:20:57.214859Z",
          "iopub.status.idle": "2022-03-26T06:20:57.382059Z",
          "shell.execute_reply.started": "2022-03-26T06:20:57.214817Z",
          "shell.execute_reply": "2022-03-26T06:20:57.381103Z"
        },
        "trusted": true,
        "id": "inh-lrNiEWxU"
      },
      "execution_count": null,
      "outputs": []
    },
    {
      "cell_type": "code",
      "source": [
        "# We can find 4 more categorical variables which are not yes/no. The dtype is object for these 4. Let us convert them into dummy variables.\n",
        "categoricals = heart.select_dtypes(include=['object'])\n",
        "categoricals.head()\n",
        "cat_dummies = pd.get_dummies(categoricals, drop_first=True)\n",
        "cat_dummies.head()\n",
        "# Drop the redundant columns\n",
        "heart.drop(list(categoricals.columns), axis=1, inplace=True)\n",
        "# concat the heart and dummies data frames.\n",
        "heart = pd.concat([heart, cat_dummies], axis=1)\n",
        "heart.head()"
      ],
      "metadata": {
        "execution": {
          "iopub.status.busy": "2022-03-26T06:21:01.623143Z",
          "iopub.execute_input": "2022-03-26T06:21:01.623529Z",
          "iopub.status.idle": "2022-03-26T06:21:01.90796Z",
          "shell.execute_reply.started": "2022-03-26T06:21:01.623489Z",
          "shell.execute_reply": "2022-03-26T06:21:01.906839Z"
        },
        "trusted": true,
        "id": "3A7v8cpbEWxU"
      },
      "execution_count": null,
      "outputs": []
    },
    {
      "cell_type": "code",
      "source": [
        "# Here we are interested in the chance of having the heart disease based on other variables.\n",
        "# Let y be HeartDisease column\n",
        "y = heart.pop('HeartDisease')\n",
        "X = heart\n",
        "X.head()"
      ],
      "metadata": {
        "execution": {
          "iopub.status.busy": "2022-03-26T06:21:08.086613Z",
          "iopub.execute_input": "2022-03-26T06:21:08.086991Z",
          "iopub.status.idle": "2022-03-26T06:21:08.112769Z",
          "shell.execute_reply.started": "2022-03-26T06:21:08.086949Z",
          "shell.execute_reply": "2022-03-26T06:21:08.111828Z"
        },
        "trusted": true,
        "id": "FRf_unW3EWxU"
      },
      "execution_count": null,
      "outputs": []
    },
    {
      "cell_type": "markdown",
      "source": [
        "### Split the data into train and test"
      ],
      "metadata": {
        "execution": {
          "iopub.status.busy": "2022-03-06T09:24:02.000678Z",
          "iopub.execute_input": "2022-03-06T09:24:02.001034Z",
          "iopub.status.idle": "2022-03-06T09:24:02.00496Z",
          "shell.execute_reply.started": "2022-03-06T09:24:02.000999Z",
          "shell.execute_reply": "2022-03-06T09:24:02.003987Z"
        },
        "id": "h7oldiBSEWxU"
      }
    },
    {
      "cell_type": "markdown",
      "source": [],
      "metadata": {
        "id": "5rTf5u5mEWxU"
      }
    },
    {
      "cell_type": "code",
      "source": [
        "# Split the data into train and test\n",
        "from sklearn.model_selection import train_test_split\n",
        "X_train, X_test, y_train, y_test = train_test_split(X, y, train_size=0.7, test_size=0.3, random_state=100)\n",
        "X_train.head()"
      ],
      "metadata": {
        "execution": {
          "iopub.status.busy": "2022-03-26T06:21:13.610547Z",
          "iopub.execute_input": "2022-03-26T06:21:13.611209Z",
          "iopub.status.idle": "2022-03-26T06:21:15.031722Z",
          "shell.execute_reply.started": "2022-03-26T06:21:13.611144Z",
          "shell.execute_reply": "2022-03-26T06:21:15.030812Z"
        },
        "trusted": true,
        "id": "UbjUuDt6EWxU"
      },
      "execution_count": null,
      "outputs": []
    },
    {
      "cell_type": "code",
      "source": [
        "len(X_train.columns)"
      ],
      "metadata": {
        "execution": {
          "iopub.status.busy": "2022-03-26T06:21:17.764857Z",
          "iopub.execute_input": "2022-03-26T06:21:17.765224Z",
          "iopub.status.idle": "2022-03-26T06:21:17.771893Z",
          "shell.execute_reply.started": "2022-03-26T06:21:17.765182Z",
          "shell.execute_reply": "2022-03-26T06:21:17.771229Z"
        },
        "trusted": true,
        "id": "_HJddqBkEWxU"
      },
      "execution_count": null,
      "outputs": []
    },
    {
      "cell_type": "code",
      "source": [
        "# Scale X variables - should have done before spliting\n",
        "from sklearn.preprocessing import scale\n",
        "# rescale the features of Xtrain\n",
        "cols = X_train.columns\n",
        "X_train = pd.DataFrame(scale(X_train))\n",
        "X_train.columns = cols\n",
        "# rescale the features of Xtest\n",
        "cols = X_test.columns\n",
        "X_test = pd.DataFrame(scale(X_test))\n",
        "X_test.columns = cols"
      ],
      "metadata": {
        "execution": {
          "iopub.status.busy": "2022-03-26T06:22:28.242265Z",
          "iopub.execute_input": "2022-03-26T06:22:28.242653Z",
          "iopub.status.idle": "2022-03-26T06:22:28.784023Z",
          "shell.execute_reply.started": "2022-03-26T06:22:28.24261Z",
          "shell.execute_reply": "2022-03-26T06:22:28.782883Z"
        },
        "trusted": true,
        "id": "b7DuM4CREWxU"
      },
      "execution_count": null,
      "outputs": []
    },
    {
      "cell_type": "code",
      "source": [
        "?RFE"
      ],
      "metadata": {
        "execution": {
          "iopub.status.busy": "2022-03-26T06:31:06.074588Z",
          "iopub.execute_input": "2022-03-26T06:31:06.074913Z",
          "iopub.status.idle": "2022-03-26T06:31:06.144075Z",
          "shell.execute_reply.started": "2022-03-26T06:31:06.074879Z",
          "shell.execute_reply": "2022-03-26T06:31:06.143141Z"
        },
        "trusted": true,
        "id": "lcQzEEk7EWxU"
      },
      "execution_count": null,
      "outputs": []
    },
    {
      "cell_type": "code",
      "source": [
        "# Let us use RFE to check required features and remove multicolearity\n",
        "from sklearn.feature_selection import RFE\n",
        "from sklearn.linear_model import LinearRegression\n",
        "\n",
        "# Running RFE with the output number of the variable equal to 10\n",
        "lm = LinearRegression()\n",
        "lm.fit(X_train, y_train)\n",
        "rfe = RFE(lm, n_features_to_select=30)             # running RFE\n",
        "rfe = rfe.fit(X_train, y_train)"
      ],
      "metadata": {
        "execution": {
          "iopub.status.busy": "2022-03-26T06:37:50.89624Z",
          "iopub.execute_input": "2022-03-26T06:37:50.896959Z",
          "iopub.status.idle": "2022-03-26T06:37:53.652387Z",
          "shell.execute_reply.started": "2022-03-26T06:37:50.896863Z",
          "shell.execute_reply": "2022-03-26T06:37:53.651164Z"
        },
        "trusted": true,
        "id": "Z_SUbG0HEWxU"
      },
      "execution_count": null,
      "outputs": []
    },
    {
      "cell_type": "code",
      "source": [
        "list(zip(X_train.columns,rfe.support_,rfe.ranking_))"
      ],
      "metadata": {
        "execution": {
          "iopub.status.busy": "2022-03-26T06:37:53.654709Z",
          "iopub.execute_input": "2022-03-26T06:37:53.655414Z",
          "iopub.status.idle": "2022-03-26T06:37:53.670277Z",
          "shell.execute_reply.started": "2022-03-26T06:37:53.655329Z",
          "shell.execute_reply": "2022-03-26T06:37:53.668972Z"
        },
        "trusted": true,
        "id": "RuojuYJrEWxU"
      },
      "execution_count": null,
      "outputs": []
    },
    {
      "cell_type": "code",
      "source": [
        "rfe_columns = X_train.columns[rfe.support_]\n",
        "rfe_columns"
      ],
      "metadata": {
        "execution": {
          "iopub.status.busy": "2022-03-26T06:38:02.237624Z",
          "iopub.execute_input": "2022-03-26T06:38:02.237943Z",
          "iopub.status.idle": "2022-03-26T06:38:02.245328Z",
          "shell.execute_reply.started": "2022-03-26T06:38:02.23791Z",
          "shell.execute_reply": "2022-03-26T06:38:02.244359Z"
        },
        "trusted": true,
        "id": "RpPWNC8PEWxU"
      },
      "execution_count": null,
      "outputs": []
    },
    {
      "cell_type": "code",
      "source": [
        "# Creating X_train dataframe with RFE selected variables\n",
        "X_train_rfe = X_train[rfe_columns]\n",
        "X_train_rfe.head()"
      ],
      "metadata": {
        "execution": {
          "iopub.status.busy": "2022-03-26T06:38:07.445536Z",
          "iopub.execute_input": "2022-03-26T06:38:07.445858Z",
          "iopub.status.idle": "2022-03-26T06:38:07.489151Z",
          "shell.execute_reply.started": "2022-03-26T06:38:07.445822Z",
          "shell.execute_reply": "2022-03-26T06:38:07.488101Z"
        },
        "trusted": true,
        "id": "2Gt2L_hrEWxV"
      },
      "execution_count": null,
      "outputs": []
    },
    {
      "cell_type": "code",
      "source": [
        "import matplotlib.pyplot as plt\n",
        "import seaborn as sns\n",
        "plt.figure(figsize = (20,10))\n",
        "sns.heatmap(X_train_rfe.corr(),annot = True)\n",
        "plt.show()"
      ],
      "metadata": {
        "execution": {
          "iopub.status.busy": "2022-03-26T06:38:13.252034Z",
          "iopub.execute_input": "2022-03-26T06:38:13.252373Z",
          "iopub.status.idle": "2022-03-26T06:38:17.933215Z",
          "shell.execute_reply.started": "2022-03-26T06:38:13.252339Z",
          "shell.execute_reply": "2022-03-26T06:38:17.9322Z"
        },
        "trusted": true,
        "id": "MYdYpktrEWxV"
      },
      "execution_count": null,
      "outputs": []
    },
    {
      "cell_type": "code",
      "source": [
        "# build a linear model using statsmodel\n",
        "\n",
        "import statsmodels.api as sm\n",
        "logm1 = sm.GLM(list(y_train),(sm.add_constant(X_train_rfe)), family = sm.families.Binomial())\n",
        "logm1.fit().summary()"
      ],
      "metadata": {
        "execution": {
          "iopub.status.busy": "2022-03-26T06:38:30.584766Z",
          "iopub.execute_input": "2022-03-26T06:38:30.585153Z",
          "iopub.status.idle": "2022-03-26T06:38:34.886391Z",
          "shell.execute_reply.started": "2022-03-26T06:38:30.585107Z",
          "shell.execute_reply": "2022-03-26T06:38:34.885295Z"
        },
        "trusted": true,
        "id": "RFoXuRdGEWxV"
      },
      "execution_count": null,
      "outputs": []
    },
    {
      "cell_type": "code",
      "source": [
        "X_train_rfe = X_train_rfe.drop(['AgeCategory_35-39'], axis=1)\n",
        "X_train_rfe.columns"
      ],
      "metadata": {
        "execution": {
          "iopub.status.busy": "2022-03-26T06:41:05.011091Z",
          "iopub.execute_input": "2022-03-26T06:41:05.011628Z",
          "iopub.status.idle": "2022-03-26T06:41:05.04909Z",
          "shell.execute_reply.started": "2022-03-26T06:41:05.011592Z",
          "shell.execute_reply": "2022-03-26T06:41:05.048123Z"
        },
        "trusted": true,
        "id": "jWHpPe5kEWxV"
      },
      "execution_count": null,
      "outputs": []
    },
    {
      "cell_type": "code",
      "source": [
        "# build a linear model using statsmodel\n",
        "\n",
        "import statsmodels.api as sm\n",
        "logm1 = sm.GLM(list(y_train),(sm.add_constant(X_train_rfe)), family = sm.families.Binomial())\n",
        "logm1.fit().summary()"
      ],
      "metadata": {
        "execution": {
          "iopub.status.busy": "2022-03-26T06:41:23.215938Z",
          "iopub.execute_input": "2022-03-26T06:41:23.216441Z",
          "iopub.status.idle": "2022-03-26T06:41:27.325144Z",
          "shell.execute_reply.started": "2022-03-26T06:41:23.21637Z",
          "shell.execute_reply": "2022-03-26T06:41:27.324062Z"
        },
        "trusted": true,
        "id": "vr19u2V6EWxV"
      },
      "execution_count": null,
      "outputs": []
    },
    {
      "cell_type": "code",
      "source": [
        "X_train_rfe = X_train_rfe.drop(['Race_White'], axis=1)\n",
        "X_train_rfe.columns\n",
        "\n",
        "import statsmodels.api as sm\n",
        "logm1 = sm.GLM(list(y_train),(sm.add_constant(X_train_rfe)), family = sm.families.Binomial())\n",
        "logm1.fit().summary()"
      ],
      "metadata": {
        "execution": {
          "iopub.status.busy": "2022-03-26T06:42:17.46473Z",
          "iopub.execute_input": "2022-03-26T06:42:17.465578Z",
          "iopub.status.idle": "2022-03-26T06:42:21.331943Z",
          "shell.execute_reply.started": "2022-03-26T06:42:17.465523Z",
          "shell.execute_reply": "2022-03-26T06:42:21.331006Z"
        },
        "trusted": true,
        "id": "8zbEFqKqEWxV"
      },
      "execution_count": null,
      "outputs": []
    },
    {
      "cell_type": "code",
      "source": [
        "# Check for the VIF values of the feature variables.\n",
        "\n",
        "from statsmodels.stats.outliers_influence import variance_inflation_factor\n",
        "vif = pd.DataFrame()\n",
        "\n",
        "vif['Features'] = X_train_rfe.columns\n",
        "vif['VIF'] = [variance_inflation_factor(X_train_rfe.values, i) for i in range(X_train_rfe.shape[1])]\n",
        "vif['VIF'] = round(vif['VIF'], 2)\n",
        "vif = vif.sort_values(by = \"VIF\", ascending = False)\n",
        "vif"
      ],
      "metadata": {
        "execution": {
          "iopub.status.busy": "2022-03-26T06:42:31.141101Z",
          "iopub.execute_input": "2022-03-26T06:42:31.141759Z",
          "iopub.status.idle": "2022-03-26T06:43:02.856759Z",
          "shell.execute_reply.started": "2022-03-26T06:42:31.141717Z",
          "shell.execute_reply": "2022-03-26T06:43:02.855757Z"
        },
        "trusted": true,
        "id": "Q2wpScc_EWxV"
      },
      "execution_count": null,
      "outputs": []
    },
    {
      "cell_type": "markdown",
      "source": [],
      "metadata": {
        "id": "cxPLjSoqEWxV"
      }
    },
    {
      "cell_type": "markdown",
      "source": [
        "No VIF seems to be above 5"
      ],
      "metadata": {
        "id": "J9JLpCIZEWxV"
      }
    },
    {
      "cell_type": "markdown",
      "source": [
        "### Residual analysis of training data"
      ],
      "metadata": {
        "id": "nnXnVfxZEWxV"
      }
    },
    {
      "cell_type": "code",
      "source": [
        "lm.fit(X_train_rfe, y_train)\n",
        "y_train_pred = lm.predict(X_train_rfe)\n",
        "y_train_pred"
      ],
      "metadata": {
        "execution": {
          "iopub.status.busy": "2022-03-26T06:43:13.728493Z",
          "iopub.execute_input": "2022-03-26T06:43:13.728983Z",
          "iopub.status.idle": "2022-03-26T06:43:14.050331Z",
          "shell.execute_reply.started": "2022-03-26T06:43:13.728933Z",
          "shell.execute_reply": "2022-03-26T06:43:14.049181Z"
        },
        "trusted": true,
        "id": "IXhPex2DEWxV"
      },
      "execution_count": null,
      "outputs": []
    },
    {
      "cell_type": "code",
      "source": [
        "\n",
        "y_train_pred_final = pd.DataFrame({'Actual':y_train, 'HeartDisease_Prob':y_train_pred})\n",
        "y_train_pred_final.head()"
      ],
      "metadata": {
        "execution": {
          "iopub.status.busy": "2022-03-26T06:43:17.116166Z",
          "iopub.execute_input": "2022-03-26T06:43:17.116534Z",
          "iopub.status.idle": "2022-03-26T06:43:17.129362Z",
          "shell.execute_reply.started": "2022-03-26T06:43:17.116496Z",
          "shell.execute_reply": "2022-03-26T06:43:17.1283Z"
        },
        "trusted": true,
        "id": "5v9XbxWcEWxV"
      },
      "execution_count": null,
      "outputs": []
    },
    {
      "cell_type": "code",
      "source": [
        "# Let's create columns with different probability cutoffs\n",
        "numbers = [float(x)/10 for x in range(10)]\n",
        "for i in numbers:\n",
        "    y_train_pred_final[i]= y_train_pred_final.HeartDisease_Prob.map(lambda x: 1 if x > i else 0)\n",
        "y_train_pred_final.head()"
      ],
      "metadata": {
        "execution": {
          "iopub.status.busy": "2022-03-26T06:43:21.927831Z",
          "iopub.execute_input": "2022-03-26T06:43:21.928195Z",
          "iopub.status.idle": "2022-03-26T06:43:23.400449Z",
          "shell.execute_reply.started": "2022-03-26T06:43:21.928157Z",
          "shell.execute_reply": "2022-03-26T06:43:23.399555Z"
        },
        "trusted": true,
        "id": "Vj2R67DGEWxV"
      },
      "execution_count": null,
      "outputs": []
    },
    {
      "cell_type": "code",
      "source": [
        "# Now let's calculate accuracy sensitivity and specificity for various probability cutoffs.\n",
        "cutoff_df = pd.DataFrame( columns = ['prob','accuracy','sensi','speci'])\n",
        "from sklearn.metrics import confusion_matrix\n",
        "\n",
        "# TP = confusion[1,1] # true positive\n",
        "# TN = confusion[0,0] # true negatives\n",
        "# FP = confusion[0,1] # false positives\n",
        "# FN = confusion[1,0] # false negatives\n",
        "from sklearn import metrics\n",
        "\n",
        "num = [0.0,0.1,0.2,0.3,0.4,0.5,0.6,0.7,0.8,0.9]\n",
        "for i in num:\n",
        "    cm1 = metrics.confusion_matrix(y_train_pred_final.Actual, y_train_pred_final[i] )\n",
        "    total1=sum(sum(cm1))\n",
        "    accuracy = (cm1[0,0]+cm1[1,1])/total1\n",
        "\n",
        "    speci = cm1[0,0]/(cm1[0,0]+cm1[0,1])\n",
        "    sensi = cm1[1,1]/(cm1[1,0]+cm1[1,1])\n",
        "    cutoff_df.loc[i] =[ i ,accuracy,sensi,speci]\n",
        "print(cutoff_df)"
      ],
      "metadata": {
        "execution": {
          "iopub.status.busy": "2022-03-26T06:43:39.174785Z",
          "iopub.execute_input": "2022-03-26T06:43:39.175802Z",
          "iopub.status.idle": "2022-03-26T06:43:39.554477Z",
          "shell.execute_reply.started": "2022-03-26T06:43:39.175744Z",
          "shell.execute_reply": "2022-03-26T06:43:39.553347Z"
        },
        "trusted": true,
        "id": "OLfi9M0_EWxV"
      },
      "execution_count": null,
      "outputs": []
    },
    {
      "cell_type": "code",
      "source": [
        "# 0.1 seems to be a good cut off in this case.\n",
        "# Let's plot accuracy sensitivity and specificity for various probabilities.\n",
        "cutoff_df.plot.line(x='prob', y=['accuracy','sensi','speci'])\n",
        "plt.show()"
      ],
      "metadata": {
        "execution": {
          "iopub.status.busy": "2022-03-26T06:44:07.616522Z",
          "iopub.execute_input": "2022-03-26T06:44:07.617533Z",
          "iopub.status.idle": "2022-03-26T06:44:07.842892Z",
          "shell.execute_reply.started": "2022-03-26T06:44:07.617472Z",
          "shell.execute_reply": "2022-03-26T06:44:07.841877Z"
        },
        "trusted": true,
        "id": "R4mF6Xx2EWxV"
      },
      "execution_count": null,
      "outputs": []
    },
    {
      "cell_type": "markdown",
      "source": [
        "### Test our model and predict y_test"
      ],
      "metadata": {
        "id": "54Zrla1eEWxZ"
      }
    },
    {
      "cell_type": "code",
      "source": [
        "cutoff = 0.2\n",
        "y_train_pred_final['final_pred'] = y_train_pred_final.HeartDisease_Prob.apply(lambda x: 1 if x>cutoff else 0)\n",
        "y_train_pred_final.head()"
      ],
      "metadata": {
        "execution": {
          "iopub.status.busy": "2022-03-26T06:44:51.938483Z",
          "iopub.execute_input": "2022-03-26T06:44:51.939043Z",
          "iopub.status.idle": "2022-03-26T06:44:52.100993Z",
          "shell.execute_reply.started": "2022-03-26T06:44:51.938975Z",
          "shell.execute_reply": "2022-03-26T06:44:52.100031Z"
        },
        "trusted": true,
        "id": "-OUNDt_cEWxZ"
      },
      "execution_count": null,
      "outputs": []
    },
    {
      "cell_type": "markdown",
      "source": [
        "## Lets make prediction on test data now"
      ],
      "metadata": {
        "id": "B9o1bBCMEWxZ"
      }
    },
    {
      "cell_type": "code",
      "source": [
        "# Adding a constant variable\n",
        "X_test_new = X_test[rfe_columns]\n",
        "X_test_new.drop(['AgeCategory_35-39','Race_White'], axis=1, inplace=True)\n",
        "X_test_new.head()"
      ],
      "metadata": {
        "execution": {
          "iopub.status.busy": "2022-03-26T06:47:06.152172Z",
          "iopub.execute_input": "2022-03-26T06:47:06.152838Z",
          "iopub.status.idle": "2022-03-26T06:47:06.20917Z",
          "shell.execute_reply.started": "2022-03-26T06:47:06.152796Z",
          "shell.execute_reply": "2022-03-26T06:47:06.208167Z"
        },
        "trusted": true,
        "id": "T-WlNWXMEWxZ"
      },
      "execution_count": null,
      "outputs": []
    },
    {
      "cell_type": "code",
      "source": [
        "# Make predictions\n",
        "y_test_pred = lm.predict(X_test_new)\n",
        "y_test_pred[:10]"
      ],
      "metadata": {
        "execution": {
          "iopub.status.busy": "2022-03-26T06:47:09.702594Z",
          "iopub.execute_input": "2022-03-26T06:47:09.703372Z",
          "iopub.status.idle": "2022-03-26T06:47:09.724677Z",
          "shell.execute_reply.started": "2022-03-26T06:47:09.703317Z",
          "shell.execute_reply": "2022-03-26T06:47:09.723478Z"
        },
        "trusted": true,
        "id": "JOyztxotEWxZ"
      },
      "execution_count": null,
      "outputs": []
    },
    {
      "cell_type": "code",
      "source": [
        "# Converting y_pred to a dataframe which is an array\n",
        "y_pred_df = pd.DataFrame(y_test_pred)\n",
        "y_pred_df.head()\n",
        "# Converting y_test to dataframe\n",
        "y_test_df = pd.DataFrame(y_test)\n",
        "y_test_df.head()"
      ],
      "metadata": {
        "execution": {
          "iopub.status.busy": "2022-03-26T06:47:12.695088Z",
          "iopub.execute_input": "2022-03-26T06:47:12.695495Z",
          "iopub.status.idle": "2022-03-26T06:47:12.708614Z",
          "shell.execute_reply.started": "2022-03-26T06:47:12.695441Z",
          "shell.execute_reply": "2022-03-26T06:47:12.707674Z"
        },
        "trusted": true,
        "id": "W2fcbB-iEWxZ"
      },
      "execution_count": null,
      "outputs": []
    },
    {
      "cell_type": "code",
      "source": [
        "# Removing index for both dataframes to append them side by side\n",
        "y_pred_df.reset_index(drop=True, inplace=True)\n",
        "y_test_df.reset_index(drop=True, inplace=True)"
      ],
      "metadata": {
        "execution": {
          "iopub.status.busy": "2022-03-26T06:47:16.671492Z",
          "iopub.execute_input": "2022-03-26T06:47:16.67199Z",
          "iopub.status.idle": "2022-03-26T06:47:16.676729Z",
          "shell.execute_reply.started": "2022-03-26T06:47:16.671953Z",
          "shell.execute_reply": "2022-03-26T06:47:16.675852Z"
        },
        "trusted": true,
        "id": "Gp10rkI7EWxa"
      },
      "execution_count": null,
      "outputs": []
    },
    {
      "cell_type": "code",
      "source": [
        "# Appending y_test_df and y_pred_1\n",
        "y_pred_final = pd.concat([y_test_df, y_pred_df],axis=1)\n",
        "y_pred_final.head()"
      ],
      "metadata": {
        "execution": {
          "iopub.status.busy": "2022-03-26T06:47:19.263186Z",
          "iopub.execute_input": "2022-03-26T06:47:19.263932Z",
          "iopub.status.idle": "2022-03-26T06:47:19.277525Z",
          "shell.execute_reply.started": "2022-03-26T06:47:19.263882Z",
          "shell.execute_reply": "2022-03-26T06:47:19.276574Z"
        },
        "trusted": true,
        "id": "iuqcDEuqEWxa"
      },
      "execution_count": null,
      "outputs": []
    },
    {
      "cell_type": "code",
      "source": [
        "# Rename the column\n",
        "y_pred_final = y_pred_final.rename(columns={0: 'HeartDidease_Prob'})\n",
        "y_pred_final.head()"
      ],
      "metadata": {
        "execution": {
          "iopub.status.busy": "2022-03-26T06:47:21.767507Z",
          "iopub.execute_input": "2022-03-26T06:47:21.768017Z",
          "iopub.status.idle": "2022-03-26T06:47:21.780929Z",
          "shell.execute_reply.started": "2022-03-26T06:47:21.767979Z",
          "shell.execute_reply": "2022-03-26T06:47:21.779859Z"
        },
        "trusted": true,
        "id": "xb_21VO0EWxb"
      },
      "execution_count": null,
      "outputs": []
    },
    {
      "cell_type": "code",
      "source": [
        "# Set final prediction based on cutoffof 0.1\n",
        "y_pred_final['final_prediction'] = y_pred_final['HeartDidease_Prob'].apply(lambda x: 1 if x>cutoff else 0)\n",
        "y_pred_final.head()"
      ],
      "metadata": {
        "execution": {
          "iopub.status.busy": "2022-03-26T06:47:30.65431Z",
          "iopub.execute_input": "2022-03-26T06:47:30.655104Z",
          "iopub.status.idle": "2022-03-26T06:47:30.731186Z",
          "shell.execute_reply.started": "2022-03-26T06:47:30.655065Z",
          "shell.execute_reply": "2022-03-26T06:47:30.7301Z"
        },
        "trusted": true,
        "id": "v14zwEVaEWxb"
      },
      "execution_count": null,
      "outputs": []
    },
    {
      "cell_type": "code",
      "source": [
        "confusion = metrics.confusion_matrix(y_pred_final.HeartDisease, y_pred_final.final_prediction )\n",
        "confusion"
      ],
      "metadata": {
        "execution": {
          "iopub.status.busy": "2022-03-26T06:47:33.495378Z",
          "iopub.execute_input": "2022-03-26T06:47:33.495749Z",
          "iopub.status.idle": "2022-03-26T06:47:33.520014Z",
          "shell.execute_reply.started": "2022-03-26T06:47:33.49571Z",
          "shell.execute_reply": "2022-03-26T06:47:33.519287Z"
        },
        "trusted": true,
        "id": "xIV9z8fJEWxb"
      },
      "execution_count": null,
      "outputs": []
    },
    {
      "cell_type": "code",
      "source": [
        "TP = confusion[1,1] # true positive\n",
        "TN = confusion[0,0] # true negatives\n",
        "FP = confusion[0,1] # false positives\n",
        "FN = confusion[1,0] # false negatives"
      ],
      "metadata": {
        "execution": {
          "iopub.status.busy": "2022-03-26T06:47:35.771525Z",
          "iopub.execute_input": "2022-03-26T06:47:35.772088Z",
          "iopub.status.idle": "2022-03-26T06:47:35.778333Z",
          "shell.execute_reply.started": "2022-03-26T06:47:35.772031Z",
          "shell.execute_reply": "2022-03-26T06:47:35.777642Z"
        },
        "trusted": true,
        "id": "OHanEXVSEWxb"
      },
      "execution_count": null,
      "outputs": []
    },
    {
      "cell_type": "code",
      "source": [
        "# Let's see the sensitivity of our logistic regression model\n",
        "TP / float(TP+FN)"
      ],
      "metadata": {
        "execution": {
          "iopub.status.busy": "2022-03-26T06:47:38.347722Z",
          "iopub.execute_input": "2022-03-26T06:47:38.348684Z",
          "iopub.status.idle": "2022-03-26T06:47:38.355761Z",
          "shell.execute_reply.started": "2022-03-26T06:47:38.348632Z",
          "shell.execute_reply": "2022-03-26T06:47:38.354639Z"
        },
        "trusted": true,
        "id": "pu3toicXEWxb"
      },
      "execution_count": null,
      "outputs": []
    },
    {
      "cell_type": "code",
      "source": [
        "# Let us calculate specificity\n",
        "TN / float(TN+FP)"
      ],
      "metadata": {
        "execution": {
          "iopub.status.busy": "2022-03-26T06:47:41.514572Z",
          "iopub.execute_input": "2022-03-26T06:47:41.514927Z",
          "iopub.status.idle": "2022-03-26T06:47:41.521738Z",
          "shell.execute_reply.started": "2022-03-26T06:47:41.514885Z",
          "shell.execute_reply": "2022-03-26T06:47:41.520824Z"
        },
        "trusted": true,
        "id": "3VhfZ0ulEWxb"
      },
      "execution_count": null,
      "outputs": []
    },
    {
      "cell_type": "code",
      "source": [
        "# Accuracy\n",
        "(TP+TN)/(TP+TN+FP+FN)"
      ],
      "metadata": {
        "execution": {
          "iopub.status.busy": "2022-03-26T06:47:44.522941Z",
          "iopub.execute_input": "2022-03-26T06:47:44.523573Z",
          "iopub.status.idle": "2022-03-26T06:47:44.531148Z",
          "shell.execute_reply.started": "2022-03-26T06:47:44.523514Z",
          "shell.execute_reply": "2022-03-26T06:47:44.530243Z"
        },
        "trusted": true,
        "id": "imnPAw2UEWxb"
      },
      "execution_count": null,
      "outputs": []
    },
    {
      "cell_type": "markdown",
      "source": [
        "## Conclusion"
      ],
      "metadata": {
        "id": "DAMbZyvSEWxb"
      }
    },
    {
      "cell_type": "markdown",
      "source": [
        "### The model seems to be have decent sensitivity and specificity. Hence this model seems to be reliable.\n",
        "\n",
        "* Sensitivity is 50%\n",
        "* Specificity is 90%\n",
        "* Accuracy is 86%"
      ],
      "metadata": {
        "id": "KP0NXIP-EWxb"
      }
    },
    {
      "cell_type": "markdown",
      "source": [
        "## 2. Analyse the correlation between various diseases"
      ],
      "metadata": {
        "id": "5a-WwhKhEWxb"
      }
    },
    {
      "cell_type": "code",
      "source": [
        "# Let us quickly check the heat map for original data\n",
        "plt.figure(figsize = (20,10))\n",
        "sns.heatmap(heart_orig.corr(),annot = True)\n",
        "plt.show()"
      ],
      "metadata": {
        "execution": {
          "iopub.status.busy": "2022-03-07T02:25:15.72983Z",
          "iopub.execute_input": "2022-03-07T02:25:15.730068Z",
          "iopub.status.idle": "2022-03-07T02:25:16.887044Z",
          "shell.execute_reply.started": "2022-03-07T02:25:15.73004Z",
          "shell.execute_reply": "2022-03-07T02:25:16.885691Z"
        },
        "trusted": true,
        "id": "Z-1aIXkgEWxb"
      },
      "execution_count": null,
      "outputs": []
    },
    {
      "cell_type": "code",
      "source": [
        "# Let us consider only the disease features\n",
        "diseases = heart_orig[['HeartDisease', 'Stroke', 'Diabetic', 'KidneyDisease', 'SkinCancer']]\n",
        "diseases.head()"
      ],
      "metadata": {
        "execution": {
          "iopub.status.busy": "2022-03-07T02:25:16.888912Z",
          "iopub.execute_input": "2022-03-07T02:25:16.889176Z",
          "iopub.status.idle": "2022-03-07T02:25:16.903628Z",
          "shell.execute_reply.started": "2022-03-07T02:25:16.88914Z",
          "shell.execute_reply": "2022-03-07T02:25:16.903094Z"
        },
        "trusted": true,
        "id": "UxbfLyG_EWxb"
      },
      "execution_count": null,
      "outputs": []
    },
    {
      "cell_type": "code",
      "source": [
        "# check a heat map\n",
        "plt.figure(figsize = (20,10))\n",
        "sns.heatmap(diseases.corr(),annot = True)\n",
        "plt.show()"
      ],
      "metadata": {
        "execution": {
          "iopub.status.busy": "2022-03-07T02:25:16.904598Z",
          "iopub.execute_input": "2022-03-07T02:25:16.90577Z",
          "iopub.status.idle": "2022-03-07T02:25:17.239774Z",
          "shell.execute_reply.started": "2022-03-07T02:25:16.905695Z",
          "shell.execute_reply": "2022-03-07T02:25:17.238796Z"
        },
        "trusted": true,
        "id": "L_GXK_XBEWxb"
      },
      "execution_count": null,
      "outputs": []
    },
    {
      "cell_type": "markdown",
      "source": [
        "### Observations\n",
        "* Heart disease and stroke are correlated\n",
        "* Diabetes is correlated with heart disease and Kidney disease. Less with Stroke.\n",
        "* Skin cancer is not correlated with other 4 diseases."
      ],
      "metadata": {
        "id": "jU8HCPXmEWxc"
      }
    },
    {
      "cell_type": "code",
      "source": [
        "# Let us understand if diabetes is influencing heart disease.\n",
        "diabetics = heart_orig[heart_orig.Diabetic==1]\n",
        "heart_d = sum(diabetics.HeartDisease)/len(diabetics)\n",
        "print(\"The number of people with diabetes also having heart disease are\")\n",
        "print(heart_d)\n",
        "\n",
        "heart_patients = heart_orig[heart_orig.HeartDisease==1]\n",
        "diabs = sum(heart_patients.Diabetic)/len(heart_patients)\n",
        "print(\"The number of people with heart disease also having diabetes are\")\n",
        "print(diabs)\n"
      ],
      "metadata": {
        "execution": {
          "iopub.status.busy": "2022-03-07T02:25:17.241227Z",
          "iopub.execute_input": "2022-03-07T02:25:17.241434Z",
          "iopub.status.idle": "2022-03-07T02:25:17.266624Z",
          "shell.execute_reply.started": "2022-03-07T02:25:17.241408Z",
          "shell.execute_reply": "2022-03-07T02:25:17.265384Z"
        },
        "trusted": true,
        "id": "o0WN3jIfEWxc"
      },
      "execution_count": null,
      "outputs": []
    },
    {
      "cell_type": "markdown",
      "source": [
        "One in three people (33%) having the heart disease are having diabetes. This can indicate that diabetes could be one of the main reasons of heart disease."
      ],
      "metadata": {
        "id": "ULASAmaLEWxc"
      }
    },
    {
      "cell_type": "code",
      "source": [
        "# Let us understand if diabetes is influencing kidney disease.\n",
        "diabeticsk = heart_orig[heart_orig.Diabetic==1]\n",
        "kidney_d = sum(diabeticsk.KidneyDisease)/len(diabeticsk)\n",
        "print(\"The number of people with diabetes also having kidney disease are\")\n",
        "print(kidney_d)\n",
        "\n",
        "kidney_patients = heart_orig[heart_orig.KidneyDisease==1]\n",
        "diabsk = sum(kidney_patients.Diabetic)/len(kidney_patients)\n",
        "print(\"The number of people with kidney disease also having diabetes are\")\n",
        "print(diabsk)"
      ],
      "metadata": {
        "execution": {
          "iopub.status.busy": "2022-03-07T02:25:17.268048Z",
          "iopub.execute_input": "2022-03-07T02:25:17.268285Z",
          "iopub.status.idle": "2022-03-07T02:25:17.295365Z",
          "shell.execute_reply.started": "2022-03-07T02:25:17.268256Z",
          "shell.execute_reply": "2022-03-07T02:25:17.294369Z"
        },
        "trusted": true,
        "id": "mQ2ag8ofEWxc"
      },
      "execution_count": null,
      "outputs": []
    },
    {
      "cell_type": "markdown",
      "source": [
        "Kidney disease is even more influenced by diabetes. Nearly 40% are having diabetes. This surely indicates that diabetes has a role to play in the kidney disease."
      ],
      "metadata": {
        "id": "GWls9zjrEWxc"
      }
    },
    {
      "cell_type": "markdown",
      "source": [
        "## 3. Understand the influence of BMI on the diseases."
      ],
      "metadata": {
        "id": "Cxf5AhNXEWxc"
      }
    },
    {
      "cell_type": "code",
      "source": [
        "diseases_bmi = heart_orig[['HeartDisease', 'Stroke', 'Diabetic', 'KidneyDisease', 'SkinCancer', 'BMI']]\n",
        "diseases_bmi.head(20)"
      ],
      "metadata": {
        "execution": {
          "iopub.status.busy": "2022-03-07T02:25:17.296614Z",
          "iopub.execute_input": "2022-03-07T02:25:17.296861Z",
          "iopub.status.idle": "2022-03-07T02:25:17.31372Z",
          "shell.execute_reply.started": "2022-03-07T02:25:17.296832Z",
          "shell.execute_reply": "2022-03-07T02:25:17.313103Z"
        },
        "trusted": true,
        "id": "pwnRxOpBEWxc"
      },
      "execution_count": null,
      "outputs": []
    },
    {
      "cell_type": "code",
      "source": [
        "plt.figure(figsize=(20,10))\n",
        "sns.heatmap(diseases_bmi.corr(), annot=True)\n",
        "plt.show()"
      ],
      "metadata": {
        "execution": {
          "iopub.status.busy": "2022-03-07T02:25:17.314595Z",
          "iopub.execute_input": "2022-03-07T02:25:17.314853Z",
          "iopub.status.idle": "2022-03-07T02:25:17.753969Z",
          "shell.execute_reply.started": "2022-03-07T02:25:17.314823Z",
          "shell.execute_reply": "2022-03-07T02:25:17.753003Z"
        },
        "trusted": true,
        "id": "RrH9lboKEWxc"
      },
      "execution_count": null,
      "outputs": []
    },
    {
      "cell_type": "markdown",
      "source": [
        "There is some hint here due to correlation between BMI and Diabetes, that higher BMI can cause Diabetes. Diabetes inturn causes heart disease and kidney disease as we learnt in previous analysis.."
      ],
      "metadata": {
        "id": "gBOc8MtYEWxc"
      }
    }
  ]
}